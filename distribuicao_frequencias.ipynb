{
  "nbformat": 4,
  "nbformat_minor": 0,
  "metadata": {
    "colab": {
      "name": "estatística aplicada.ipynb",
      "provenance": [],
      "collapsed_sections": [
        "G78Bip8FAqKt",
        "k7CsRuDHAvod",
        "KaNy2A8HAyhU",
        "fhBT-TIhA1YE",
        "Rt9-GUFSB89k",
        "mX38CjVsCAPe",
        "pm8mxB4fCECM"
      ],
      "authorship_tag": "ABX9TyMCJD5rfsptHUi+C/L9uDP5",
      "include_colab_link": true
    },
    "kernelspec": {
      "name": "python3",
      "display_name": "Python 3"
    }
  },
  "cells": [
    {
      "cell_type": "markdown",
      "metadata": {
        "id": "view-in-github",
        "colab_type": "text"
      },
      "source": [
        "<a href=\"https://colab.research.google.com/github/sleiph/snippets/blob/main/distribuicao_frequencias.ipynb\" target=\"_parent\"><img src=\"https://colab.research.google.com/assets/colab-badge.svg\" alt=\"Open In Colab\"/></a>"
      ]
    },
    {
      "cell_type": "markdown",
      "metadata": {
        "id": "NJXSu4fY-AbP"
      },
      "source": [
        "# Distribuição de frequências"
      ]
    },
    {
      "cell_type": "code",
      "metadata": {
        "id": "S4PtIMpVClZv"
      },
      "source": [
        "# o importante é importar\r\n",
        "import numpy as np\r\n",
        "import pandas as pd\r\n",
        "\r\n",
        "import math"
      ],
      "execution_count": null,
      "outputs": []
    },
    {
      "cell_type": "markdown",
      "metadata": {
        "id": "cRgCVosLYWW6"
      },
      "source": [
        "## Entrada de dados"
      ]
    },
    {
      "cell_type": "code",
      "metadata": {
        "id": "F5Z4p3XUDfeh"
      },
      "source": [
        "# dados\r\n",
        "dados = [230, 232, 244, 245, 248, 249, 250, 255, 257, 260, 264, 271, 278, 280, 280,\r\n",
        "         280, 281, 284, 289, 292, 292, 293, 294, 294, 296, 299, 299, 299, 302, 302,\r\n",
        "         308, 309, 309, 310, 311, 312, 314, 315, 316, 318, 318, 320, 321, 324, 326,\r\n",
        "         333, 335, 335, 337, 337, 339, 341, 342, 342, 342, 348, 356, 360, 365, 369]\r\n",
        "\r\n",
        "# número de dados\r\n",
        "n = len(dados)"
      ],
      "execution_count": null,
      "outputs": []
    },
    {
      "cell_type": "code",
      "metadata": {
        "id": "mz9841rNYv6i"
      },
      "source": [
        "# organizando os dados em ordem crescente\r\n",
        "dados_rol = pd.Series(\r\n",
        "    sorted(dados),\r\n",
        "    ## indexando os dados a partir de 1\r\n",
        "    index=list( range(1, n+1))\r\n",
        ")\r\n",
        "\r\n",
        "# amplitude dos dados\r\n",
        "Xmin = dados_rol.min()\r\n",
        "Xmax = dados_rol.max()"
      ],
      "execution_count": null,
      "outputs": []
    },
    {
      "cell_type": "markdown",
      "metadata": {
        "id": "qXrCiiX0YPhr"
      },
      "source": [
        "## Cálculos de amplitude"
      ]
    },
    {
      "cell_type": "code",
      "metadata": {
        "id": "MFHg1vmVEidq"
      },
      "source": [
        "# definindo as amplitudes\r\n",
        "\r\n",
        "## n de classes\r\n",
        "k = int(math.sqrt(n))\r\n",
        "### se tiver menor variação de dados que k, k = variação de dados\r\n",
        "if len(set(dados)) < k:\r\n",
        "  k = len(set(dados))\r\n",
        "\r\n",
        "## Amplitude Amostral\r\n",
        "AA = Xmax - Xmin\r\n",
        "## Amplitude do intervalo\r\n",
        "h = int(round(AA/k))"
      ],
      "execution_count": null,
      "outputs": []
    },
    {
      "cell_type": "code",
      "metadata": {
        "id": "oXLT_HMYRE8r"
      },
      "source": [
        "# criando um array com os separadores das classes\r\n",
        "limites = []\r\n",
        "##  modos diferentes de definir as amplitudes\r\n",
        "###limites = np.arange(Xmin, Xmax+1, h)\r\n",
        "###limites = pd.cut(dados_rol, k, precision=0)\r\n",
        "\r\n",
        "# criando um array com as amplitudes organizadas\r\n",
        "ranges = []\r\n",
        "\r\n",
        "# criando um array com a média de cada amplitude\r\n",
        "xi = []\r\n",
        "\r\n",
        "# gambiarrando\r\n",
        "for r in range(Xmin, Xmax, h):\r\n",
        "  limites.append(r)\r\n",
        "  ranges.append([r, r+h-1])\r\n",
        "  xi.append( int(round(r+(r+h-1)) /2) )\r\n",
        "\r\n",
        "limites.append(Xmax+1)"
      ],
      "execution_count": null,
      "outputs": []
    },
    {
      "cell_type": "markdown",
      "metadata": {
        "id": "pDpVbClHeeuk"
      },
      "source": [
        "## Criando as tabelas"
      ]
    },
    {
      "cell_type": "code",
      "metadata": {
        "id": "flAgzJV1FSXi"
      },
      "source": [
        "# criando a tabela de dados\r\n",
        "df = pd.DataFrame(dados_rol)\r\n",
        "\r\n",
        "# adicionando a coluna das classes na tabela de dados\r\n",
        "df['classe'] = np.digitize(dados_rol, limites)"
      ],
      "execution_count": null,
      "outputs": []
    },
    {
      "cell_type": "code",
      "metadata": {
        "id": "g1yZPefb_NGr"
      },
      "source": [
        "# criando a tabela de frequências\r\n",
        "tab = pd.DataFrame(df.groupby('classe'), columns=['classe', 'counts']).drop(columns=['counts'])\r\n",
        "tab.set_index('classe', inplace=True)"
      ],
      "execution_count": null,
      "outputs": []
    },
    {
      "cell_type": "markdown",
      "metadata": {
        "id": "tlb-lr9UYdVS"
      },
      "source": [
        "## Populando a tabela de distribuição"
      ]
    },
    {
      "cell_type": "code",
      "metadata": {
        "id": "oKPEIbHKSQTz"
      },
      "source": [
        "# adicionando os dados de amplitude\r\n",
        "tabela = tab.assign(dist=ranges, xi=xi)"
      ],
      "execution_count": null,
      "outputs": []
    },
    {
      "cell_type": "code",
      "metadata": {
        "id": "k-FJbMR7actM"
      },
      "source": [
        "# adicionando os dados de frequência\r\n",
        "tabela['fi'] = df.groupby(df['classe']).count()\r\n",
        "\r\n",
        "tabela['fri'] = (tabela['fi'] / n).round(4)\r\n",
        "tabela['fri %'] = tabela['fri'] * 100\r\n",
        "tabela['fac'] = tabela['fi'].cumsum()\r\n",
        "tabela['frac'] = (tabela['fac'] / n).round(4)\r\n",
        "tabela['frac %'] = tabela['frac'] * 100"
      ],
      "execution_count": null,
      "outputs": []
    },
    {
      "cell_type": "code",
      "metadata": {
        "colab": {
          "base_uri": "https://localhost:8080/",
          "height": 297
        },
        "id": "CTM9H9KIIThh",
        "outputId": "e2b8a38a-2509-44e3-e84d-567469ad84da"
      },
      "source": [
        "# GG\r\n",
        "tabela"
      ],
      "execution_count": null,
      "outputs": [
        {
          "output_type": "execute_result",
          "data": {
            "text/html": [
              "<div>\n",
              "<style scoped>\n",
              "    .dataframe tbody tr th:only-of-type {\n",
              "        vertical-align: middle;\n",
              "    }\n",
              "\n",
              "    .dataframe tbody tr th {\n",
              "        vertical-align: top;\n",
              "    }\n",
              "\n",
              "    .dataframe thead th {\n",
              "        text-align: right;\n",
              "    }\n",
              "</style>\n",
              "<table border=\"1\" class=\"dataframe\">\n",
              "  <thead>\n",
              "    <tr style=\"text-align: right;\">\n",
              "      <th></th>\n",
              "      <th>dist</th>\n",
              "      <th>xi</th>\n",
              "      <th>fi</th>\n",
              "      <th>fri</th>\n",
              "      <th>fri %</th>\n",
              "      <th>fac</th>\n",
              "      <th>frac</th>\n",
              "      <th>frac %</th>\n",
              "    </tr>\n",
              "    <tr>\n",
              "      <th>classe</th>\n",
              "      <th></th>\n",
              "      <th></th>\n",
              "      <th></th>\n",
              "      <th></th>\n",
              "      <th></th>\n",
              "      <th></th>\n",
              "      <th></th>\n",
              "      <th></th>\n",
              "    </tr>\n",
              "  </thead>\n",
              "  <tbody>\n",
              "    <tr>\n",
              "      <th>1</th>\n",
              "      <td>[230, 249]</td>\n",
              "      <td>239</td>\n",
              "      <td>6</td>\n",
              "      <td>0.1000</td>\n",
              "      <td>10.00</td>\n",
              "      <td>6</td>\n",
              "      <td>0.1000</td>\n",
              "      <td>10.00</td>\n",
              "    </tr>\n",
              "    <tr>\n",
              "      <th>2</th>\n",
              "      <td>[250, 269]</td>\n",
              "      <td>259</td>\n",
              "      <td>5</td>\n",
              "      <td>0.0833</td>\n",
              "      <td>8.33</td>\n",
              "      <td>11</td>\n",
              "      <td>0.1833</td>\n",
              "      <td>18.33</td>\n",
              "    </tr>\n",
              "    <tr>\n",
              "      <th>3</th>\n",
              "      <td>[270, 289]</td>\n",
              "      <td>279</td>\n",
              "      <td>8</td>\n",
              "      <td>0.1333</td>\n",
              "      <td>13.33</td>\n",
              "      <td>19</td>\n",
              "      <td>0.3167</td>\n",
              "      <td>31.67</td>\n",
              "    </tr>\n",
              "    <tr>\n",
              "      <th>4</th>\n",
              "      <td>[290, 309]</td>\n",
              "      <td>299</td>\n",
              "      <td>14</td>\n",
              "      <td>0.2333</td>\n",
              "      <td>23.33</td>\n",
              "      <td>33</td>\n",
              "      <td>0.5500</td>\n",
              "      <td>55.00</td>\n",
              "    </tr>\n",
              "    <tr>\n",
              "      <th>5</th>\n",
              "      <td>[310, 329]</td>\n",
              "      <td>319</td>\n",
              "      <td>12</td>\n",
              "      <td>0.2000</td>\n",
              "      <td>20.00</td>\n",
              "      <td>45</td>\n",
              "      <td>0.7500</td>\n",
              "      <td>75.00</td>\n",
              "    </tr>\n",
              "    <tr>\n",
              "      <th>6</th>\n",
              "      <td>[330, 349]</td>\n",
              "      <td>339</td>\n",
              "      <td>11</td>\n",
              "      <td>0.1833</td>\n",
              "      <td>18.33</td>\n",
              "      <td>56</td>\n",
              "      <td>0.9333</td>\n",
              "      <td>93.33</td>\n",
              "    </tr>\n",
              "    <tr>\n",
              "      <th>7</th>\n",
              "      <td>[350, 369]</td>\n",
              "      <td>359</td>\n",
              "      <td>4</td>\n",
              "      <td>0.0667</td>\n",
              "      <td>6.67</td>\n",
              "      <td>60</td>\n",
              "      <td>1.0000</td>\n",
              "      <td>100.00</td>\n",
              "    </tr>\n",
              "  </tbody>\n",
              "</table>\n",
              "</div>"
            ],
            "text/plain": [
              "              dist   xi  fi     fri  fri %  fac    frac  frac %\n",
              "classe                                                         \n",
              "1       [230, 249]  239   6  0.1000  10.00    6  0.1000   10.00\n",
              "2       [250, 269]  259   5  0.0833   8.33   11  0.1833   18.33\n",
              "3       [270, 289]  279   8  0.1333  13.33   19  0.3167   31.67\n",
              "4       [290, 309]  299  14  0.2333  23.33   33  0.5500   55.00\n",
              "5       [310, 329]  319  12  0.2000  20.00   45  0.7500   75.00\n",
              "6       [330, 349]  339  11  0.1833  18.33   56  0.9333   93.33\n",
              "7       [350, 369]  359   4  0.0667   6.67   60  1.0000  100.00"
            ]
          },
          "metadata": {
            "tags": []
          },
          "execution_count": 522
        }
      ]
    },
    {
      "cell_type": "markdown",
      "metadata": {
        "id": "jlMXLG-gD_xs"
      },
      "source": [
        "## Perguntas"
      ]
    },
    {
      "cell_type": "markdown",
      "metadata": {
        "id": "G78Bip8FAqKt"
      },
      "source": [
        "#### a)  Identifique a variável em estudo. É qualitativa ou quantitativa? É contínua ou discreta?"
      ]
    },
    {
      "cell_type": "markdown",
      "metadata": {
        "id": "499wjXMjAm9U"
      },
      "source": [
        "produção diária de calotas, quantitativa discreta"
      ]
    },
    {
      "cell_type": "markdown",
      "metadata": {
        "id": "k7CsRuDHAvod"
      },
      "source": [
        "#### b) Calcule o número de classes (k)"
      ]
    },
    {
      "cell_type": "code",
      "metadata": {
        "colab": {
          "base_uri": "https://localhost:8080/"
        },
        "id": "OygBAKWgfX-N",
        "outputId": "d23e7cc2-2c6b-4903-f87d-b70e9ec09602"
      },
      "source": [
        "k"
      ],
      "execution_count": null,
      "outputs": [
        {
          "output_type": "execute_result",
          "data": {
            "text/plain": [
              "7"
            ]
          },
          "metadata": {
            "tags": []
          },
          "execution_count": 510
        }
      ]
    },
    {
      "cell_type": "markdown",
      "metadata": {
        "id": "KaNy2A8HAyhU"
      },
      "source": [
        "#### c) Calcule a Amplitude Amostral (AA)"
      ]
    },
    {
      "cell_type": "code",
      "metadata": {
        "colab": {
          "base_uri": "https://localhost:8080/"
        },
        "id": "wAyDDMmUfeOT",
        "outputId": "61dae412-cdf7-4df3-fa81-26d1a33ed0b0"
      },
      "source": [
        "AA"
      ],
      "execution_count": null,
      "outputs": [
        {
          "output_type": "execute_result",
          "data": {
            "text/plain": [
              "139"
            ]
          },
          "metadata": {
            "tags": []
          },
          "execution_count": 518
        }
      ]
    },
    {
      "cell_type": "markdown",
      "metadata": {
        "id": "fhBT-TIhA1YE"
      },
      "source": [
        "#### d) Calcule a amplitude de classe (h)"
      ]
    },
    {
      "cell_type": "code",
      "metadata": {
        "colab": {
          "base_uri": "https://localhost:8080/"
        },
        "id": "ziJAj_4rfldz",
        "outputId": "3fc38d84-c89b-456f-eb38-9396a41de29e"
      },
      "source": [
        "h"
      ],
      "execution_count": null,
      "outputs": [
        {
          "output_type": "execute_result",
          "data": {
            "text/plain": [
              "20"
            ]
          },
          "metadata": {
            "tags": []
          },
          "execution_count": 512
        }
      ]
    },
    {
      "cell_type": "markdown",
      "metadata": {
        "id": "Rt9-GUFSB89k"
      },
      "source": [
        "#### e) Preencha uma tabela com os valores de frequência, frequência relativa, frequência acumulada, frequência relativa acumulada"
      ]
    },
    {
      "cell_type": "code",
      "metadata": {
        "colab": {
          "base_uri": "https://localhost:8080/",
          "height": 297
        },
        "id": "QrM3kpYLhTRT",
        "outputId": "2b77de65-4b44-4efb-ac24-e16d14fb975b"
      },
      "source": [
        "tabela"
      ],
      "execution_count": null,
      "outputs": [
        {
          "output_type": "execute_result",
          "data": {
            "text/html": [
              "<div>\n",
              "<style scoped>\n",
              "    .dataframe tbody tr th:only-of-type {\n",
              "        vertical-align: middle;\n",
              "    }\n",
              "\n",
              "    .dataframe tbody tr th {\n",
              "        vertical-align: top;\n",
              "    }\n",
              "\n",
              "    .dataframe thead th {\n",
              "        text-align: right;\n",
              "    }\n",
              "</style>\n",
              "<table border=\"1\" class=\"dataframe\">\n",
              "  <thead>\n",
              "    <tr style=\"text-align: right;\">\n",
              "      <th></th>\n",
              "      <th>dist</th>\n",
              "      <th>fi</th>\n",
              "      <th>xi</th>\n",
              "      <th>fri</th>\n",
              "      <th>fri %</th>\n",
              "      <th>fac</th>\n",
              "      <th>frac</th>\n",
              "      <th>frac %</th>\n",
              "    </tr>\n",
              "    <tr>\n",
              "      <th>classe</th>\n",
              "      <th></th>\n",
              "      <th></th>\n",
              "      <th></th>\n",
              "      <th></th>\n",
              "      <th></th>\n",
              "      <th></th>\n",
              "      <th></th>\n",
              "      <th></th>\n",
              "    </tr>\n",
              "  </thead>\n",
              "  <tbody>\n",
              "    <tr>\n",
              "      <th>1</th>\n",
              "      <td>[230, 249]</td>\n",
              "      <td>6</td>\n",
              "      <td>239</td>\n",
              "      <td>0.1000</td>\n",
              "      <td>10.00</td>\n",
              "      <td>6</td>\n",
              "      <td>0.1000</td>\n",
              "      <td>10.00</td>\n",
              "    </tr>\n",
              "    <tr>\n",
              "      <th>2</th>\n",
              "      <td>[250, 269]</td>\n",
              "      <td>5</td>\n",
              "      <td>259</td>\n",
              "      <td>0.0833</td>\n",
              "      <td>8.33</td>\n",
              "      <td>11</td>\n",
              "      <td>0.1833</td>\n",
              "      <td>18.33</td>\n",
              "    </tr>\n",
              "    <tr>\n",
              "      <th>3</th>\n",
              "      <td>[270, 289]</td>\n",
              "      <td>8</td>\n",
              "      <td>279</td>\n",
              "      <td>0.1333</td>\n",
              "      <td>13.33</td>\n",
              "      <td>19</td>\n",
              "      <td>0.3167</td>\n",
              "      <td>31.67</td>\n",
              "    </tr>\n",
              "    <tr>\n",
              "      <th>4</th>\n",
              "      <td>[290, 309]</td>\n",
              "      <td>14</td>\n",
              "      <td>299</td>\n",
              "      <td>0.2333</td>\n",
              "      <td>23.33</td>\n",
              "      <td>33</td>\n",
              "      <td>0.5500</td>\n",
              "      <td>55.00</td>\n",
              "    </tr>\n",
              "    <tr>\n",
              "      <th>5</th>\n",
              "      <td>[310, 329]</td>\n",
              "      <td>12</td>\n",
              "      <td>319</td>\n",
              "      <td>0.2000</td>\n",
              "      <td>20.00</td>\n",
              "      <td>45</td>\n",
              "      <td>0.7500</td>\n",
              "      <td>75.00</td>\n",
              "    </tr>\n",
              "    <tr>\n",
              "      <th>6</th>\n",
              "      <td>[330, 349]</td>\n",
              "      <td>11</td>\n",
              "      <td>339</td>\n",
              "      <td>0.1833</td>\n",
              "      <td>18.33</td>\n",
              "      <td>56</td>\n",
              "      <td>0.9333</td>\n",
              "      <td>93.33</td>\n",
              "    </tr>\n",
              "    <tr>\n",
              "      <th>7</th>\n",
              "      <td>[350, 369]</td>\n",
              "      <td>4</td>\n",
              "      <td>359</td>\n",
              "      <td>0.0667</td>\n",
              "      <td>6.67</td>\n",
              "      <td>60</td>\n",
              "      <td>1.0000</td>\n",
              "      <td>100.00</td>\n",
              "    </tr>\n",
              "  </tbody>\n",
              "</table>\n",
              "</div>"
            ],
            "text/plain": [
              "              dist  fi   xi     fri  fri %  fac    frac  frac %\n",
              "classe                                                         \n",
              "1       [230, 249]   6  239  0.1000  10.00    6  0.1000   10.00\n",
              "2       [250, 269]   5  259  0.0833   8.33   11  0.1833   18.33\n",
              "3       [270, 289]   8  279  0.1333  13.33   19  0.3167   31.67\n",
              "4       [290, 309]  14  299  0.2333  23.33   33  0.5500   55.00\n",
              "5       [310, 329]  12  319  0.2000  20.00   45  0.7500   75.00\n",
              "6       [330, 349]  11  339  0.1833  18.33   56  0.9333   93.33\n",
              "7       [350, 369]   4  359  0.0667   6.67   60  1.0000  100.00"
            ]
          },
          "metadata": {
            "tags": []
          },
          "execution_count": 513
        }
      ]
    },
    {
      "cell_type": "markdown",
      "metadata": {
        "id": "mX38CjVsCAPe"
      },
      "source": [
        "#### f) Qual classe contém o termo de maior frequência?"
      ]
    },
    {
      "cell_type": "code",
      "metadata": {
        "colab": {
          "base_uri": "https://localhost:8080/"
        },
        "id": "9hgnFyXou4o_",
        "outputId": "269e8050-e89e-4edc-9f57-70072e79d1f1"
      },
      "source": [
        "tabela['fi'].idxmax()"
      ],
      "execution_count": null,
      "outputs": [
        {
          "output_type": "execute_result",
          "data": {
            "text/plain": [
              "4"
            ]
          },
          "metadata": {
            "tags": []
          },
          "execution_count": 516
        }
      ]
    },
    {
      "cell_type": "markdown",
      "metadata": {
        "id": "pm8mxB4fCECM"
      },
      "source": [
        "#### g) Quais os limites (inferior e superior) da quinta classe?"
      ]
    },
    {
      "cell_type": "code",
      "metadata": {
        "colab": {
          "base_uri": "https://localhost:8080/"
        },
        "id": "3c1Qqokz8Dw8",
        "outputId": "a6ebfa22-a5d8-4e25-e16d-0aa1a0f80268"
      },
      "source": [
        "tabela['dist'][5]"
      ],
      "execution_count": null,
      "outputs": [
        {
          "output_type": "execute_result",
          "data": {
            "text/plain": [
              "[310, 329]"
            ]
          },
          "metadata": {
            "tags": []
          },
          "execution_count": 517
        }
      ]
    }
  ]
}
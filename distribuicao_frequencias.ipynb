{
  "nbformat": 4,
  "nbformat_minor": 0,
  "metadata": {
    "colab": {
      "name": "distribuicao_frequencias.ipynb",
      "provenance": [],
      "collapsed_sections": [],
      "authorship_tag": "ABX9TyNSIgCbVfgiPhLOJO2g2a94",
      "include_colab_link": true
    },
    "kernelspec": {
      "name": "python3",
      "display_name": "Python 3"
    }
  },
  "cells": [
    {
      "cell_type": "markdown",
      "metadata": {
        "id": "view-in-github",
        "colab_type": "text"
      },
      "source": [
        "<a href=\"https://colab.research.google.com/github/sleiph/snippets/blob/main/distribuicao_frequencias.ipynb\" target=\"_parent\"><img src=\"https://colab.research.google.com/assets/colab-badge.svg\" alt=\"Open In Colab\"/></a>"
      ]
    },
    {
      "cell_type": "markdown",
      "metadata": {
        "id": "NJXSu4fY-AbP"
      },
      "source": [
        "# Distribuição de frequências"
      ]
    },
    {
      "cell_type": "code",
      "metadata": {
        "id": "S4PtIMpVClZv"
      },
      "source": [
        "# o importante é importar\r\n",
        "import numpy as np\r\n",
        "import pandas as pd\r\n",
        "\r\n",
        "import math"
      ],
      "execution_count": 1,
      "outputs": []
    },
    {
      "cell_type": "markdown",
      "metadata": {
        "id": "cRgCVosLYWW6"
      },
      "source": [
        "## Entrada de dados"
      ]
    },
    {
      "cell_type": "code",
      "metadata": {
        "id": "F5Z4p3XUDfeh"
      },
      "source": [
        "## exercicio 10\r\n",
        "dados = [230, 232, 244, 245, 248, 249, 250, 255, 257, 260, 264, 271, 278, 280, 280,\r\n",
        "         280, 281, 284, 289, 292, 292, 293, 294, 294, 296, 299, 299, 299, 302, 302,\r\n",
        "         308, 309, 309, 310, 311, 312, 314, 315, 316, 318, 318, 320, 321, 324, 326,\r\n",
        "         333, 335, 335, 337, 337, 339, 341, 342, 342, 342, 348, 356, 360, 365, 369]\r\n",
        "\r\n",
        "# Quantas casas depois da vírgula serão exibidas\r\n",
        "precisao = 4"
      ],
      "execution_count": 2,
      "outputs": []
    },
    {
      "cell_type": "markdown",
      "metadata": {
        "id": "UKvfPbZxXzAc"
      },
      "source": [
        "## Cálculo de valores"
      ]
    },
    {
      "cell_type": "code",
      "metadata": {
        "id": "mz9841rNYv6i"
      },
      "source": [
        "# número de dados\r\n",
        "n = len(dados)\r\n",
        "\r\n",
        "# tipo dos dados\r\n",
        "## isDiscreta = all(isinstance(x, int) for x in dados)\r\n",
        "\r\n",
        "# organizando os dados em ordem crescente\r\n",
        "dados_rol = pd.Series(\r\n",
        "    sorted(dados),\r\n",
        "    ## indexando os dados a partir de 1\r\n",
        "    index=list( range(1, n+1))\r\n",
        ")\r\n",
        "\r\n",
        "# amplitude dos dados\r\n",
        "Xmin = dados_rol.min()\r\n",
        "Xmax = dados_rol.max()"
      ],
      "execution_count": 3,
      "outputs": []
    },
    {
      "cell_type": "markdown",
      "metadata": {
        "id": "qXrCiiX0YPhr"
      },
      "source": [
        "## Cálculos de amplitude"
      ]
    },
    {
      "cell_type": "code",
      "metadata": {
        "id": "MFHg1vmVEidq"
      },
      "source": [
        "# definindo as amplitudes\r\n",
        "\r\n",
        "## n de classes\r\n",
        "if n <= 50:\r\n",
        "  k = math.sqrt(n)\r\n",
        "else:\r\n",
        "  k = int(round(math.log2(n))) + 1\r\n",
        "\r\n",
        "### se tiver menor variação de dados que k, k = variação de dados\r\n",
        "if len(set(dados)) < k:\r\n",
        "  k = len(set(dados))\r\n",
        "\r\n",
        "## Amplitude Amostral\r\n",
        "AA = Xmax - Xmin\r\n",
        "\r\n",
        "## Amplitude do intervalo\r\n",
        "h = math.ceil(AA/k)"
      ],
      "execution_count": 4,
      "outputs": []
    },
    {
      "cell_type": "code",
      "metadata": {
        "id": "oXLT_HMYRE8r"
      },
      "source": [
        "# criando um array com os separadores das classes\r\n",
        "limites = []\r\n",
        "##  modos diferentes de definir as amplitudes\r\n",
        "### limites = np.arange(Xmin, Xmax+1, h)\r\n",
        "### limites = pd.cut(dados_rol, k, precision=precisao)\r\n",
        "\r\n",
        "# criando um array com as amplitudes organizadas\r\n",
        "ranges = []\r\n",
        "\r\n",
        "# criando um array com a média de cada amplitude\r\n",
        "xi = []"
      ],
      "execution_count": 5,
      "outputs": []
    },
    {
      "cell_type": "code",
      "metadata": {
        "id": "dVu9QNdjX7DJ"
      },
      "source": [
        "# populando os arrays\r\n",
        "for r in range(Xmin, Xmax, h):\r\n",
        "  limites.append(r)\r\n",
        "  ranges.append(\"{0} ⊢ {1}\".format(r, r+h))\r\n",
        "  xi.append( round( (r+(r+h))/2, precisao ) )\r\n",
        "\r\n",
        "limites.append(Xmax+1)"
      ],
      "execution_count": 6,
      "outputs": []
    },
    {
      "cell_type": "markdown",
      "metadata": {
        "id": "pDpVbClHeeuk"
      },
      "source": [
        "## Criando as tabelas"
      ]
    },
    {
      "cell_type": "code",
      "metadata": {
        "id": "flAgzJV1FSXi"
      },
      "source": [
        "# criando a tabela de dados\r\n",
        "df = pd.DataFrame(dados_rol)\r\n",
        "\r\n",
        "# adicionando a coluna das classes na tabela de dados\r\n",
        "df['classe'] = np.digitize(dados_rol, limites)"
      ],
      "execution_count": 7,
      "outputs": []
    },
    {
      "cell_type": "code",
      "metadata": {
        "id": "g1yZPefb_NGr"
      },
      "source": [
        "# criando a tabela de frequências\r\n",
        "tab = pd.DataFrame(\r\n",
        "    df.groupby('classe'), columns=['classe', 'counts']\r\n",
        ").drop(columns=['counts'])\r\n",
        "tab.set_index('classe', inplace=True)"
      ],
      "execution_count": 8,
      "outputs": []
    },
    {
      "cell_type": "markdown",
      "metadata": {
        "id": "tlb-lr9UYdVS"
      },
      "source": [
        "## Populando a tabela de distribuição"
      ]
    },
    {
      "cell_type": "code",
      "metadata": {
        "id": "oKPEIbHKSQTz"
      },
      "source": [
        "# adicionando os dados de amplitude\r\n",
        "tabela = tab.assign(dist=ranges, xi=xi)"
      ],
      "execution_count": 9,
      "outputs": []
    },
    {
      "cell_type": "code",
      "metadata": {
        "id": "k-FJbMR7actM"
      },
      "source": [
        "# adicionando os dados de frequência\r\n",
        "tabela['fi'] = df.groupby(df['classe']).count()\r\n",
        "\r\n",
        "tabela['fri'] = (tabela['fi'] / n).round(precisao)\r\n",
        "tabela['fri %'] = tabela['fri'] * 100\r\n",
        "tabela['fac'] = tabela['fi'].cumsum()\r\n",
        "tabela['frac'] = (tabela['fac'] / n).round(precisao)\r\n",
        "tabela['frac %'] = tabela['frac'] * 100"
      ],
      "execution_count": 10,
      "outputs": []
    },
    {
      "cell_type": "markdown",
      "metadata": {
        "id": "5nlFsZNJYT1E"
      },
      "source": [
        "## Resultado"
      ]
    },
    {
      "cell_type": "code",
      "metadata": {
        "colab": {
          "base_uri": "https://localhost:8080/",
          "height": 297
        },
        "id": "CTM9H9KIIThh",
        "outputId": "8e57749f-12db-4114-bca7-7d6f3a68b101"
      },
      "source": [
        "# GG\r\n",
        "tabela"
      ],
      "execution_count": 11,
      "outputs": [
        {
          "output_type": "execute_result",
          "data": {
            "text/html": [
              "<div>\n",
              "<style scoped>\n",
              "    .dataframe tbody tr th:only-of-type {\n",
              "        vertical-align: middle;\n",
              "    }\n",
              "\n",
              "    .dataframe tbody tr th {\n",
              "        vertical-align: top;\n",
              "    }\n",
              "\n",
              "    .dataframe thead th {\n",
              "        text-align: right;\n",
              "    }\n",
              "</style>\n",
              "<table border=\"1\" class=\"dataframe\">\n",
              "  <thead>\n",
              "    <tr style=\"text-align: right;\">\n",
              "      <th></th>\n",
              "      <th>dist</th>\n",
              "      <th>xi</th>\n",
              "      <th>fi</th>\n",
              "      <th>fri</th>\n",
              "      <th>fri %</th>\n",
              "      <th>fac</th>\n",
              "      <th>frac</th>\n",
              "      <th>frac %</th>\n",
              "    </tr>\n",
              "    <tr>\n",
              "      <th>classe</th>\n",
              "      <th></th>\n",
              "      <th></th>\n",
              "      <th></th>\n",
              "      <th></th>\n",
              "      <th></th>\n",
              "      <th></th>\n",
              "      <th></th>\n",
              "      <th></th>\n",
              "    </tr>\n",
              "  </thead>\n",
              "  <tbody>\n",
              "    <tr>\n",
              "      <th>1</th>\n",
              "      <td>230 ⊢ 250</td>\n",
              "      <td>240.0</td>\n",
              "      <td>6</td>\n",
              "      <td>0.1000</td>\n",
              "      <td>10.00</td>\n",
              "      <td>6</td>\n",
              "      <td>0.1000</td>\n",
              "      <td>10.00</td>\n",
              "    </tr>\n",
              "    <tr>\n",
              "      <th>2</th>\n",
              "      <td>250 ⊢ 270</td>\n",
              "      <td>260.0</td>\n",
              "      <td>5</td>\n",
              "      <td>0.0833</td>\n",
              "      <td>8.33</td>\n",
              "      <td>11</td>\n",
              "      <td>0.1833</td>\n",
              "      <td>18.33</td>\n",
              "    </tr>\n",
              "    <tr>\n",
              "      <th>3</th>\n",
              "      <td>270 ⊢ 290</td>\n",
              "      <td>280.0</td>\n",
              "      <td>8</td>\n",
              "      <td>0.1333</td>\n",
              "      <td>13.33</td>\n",
              "      <td>19</td>\n",
              "      <td>0.3167</td>\n",
              "      <td>31.67</td>\n",
              "    </tr>\n",
              "    <tr>\n",
              "      <th>4</th>\n",
              "      <td>290 ⊢ 310</td>\n",
              "      <td>300.0</td>\n",
              "      <td>14</td>\n",
              "      <td>0.2333</td>\n",
              "      <td>23.33</td>\n",
              "      <td>33</td>\n",
              "      <td>0.5500</td>\n",
              "      <td>55.00</td>\n",
              "    </tr>\n",
              "    <tr>\n",
              "      <th>5</th>\n",
              "      <td>310 ⊢ 330</td>\n",
              "      <td>320.0</td>\n",
              "      <td>12</td>\n",
              "      <td>0.2000</td>\n",
              "      <td>20.00</td>\n",
              "      <td>45</td>\n",
              "      <td>0.7500</td>\n",
              "      <td>75.00</td>\n",
              "    </tr>\n",
              "    <tr>\n",
              "      <th>6</th>\n",
              "      <td>330 ⊢ 350</td>\n",
              "      <td>340.0</td>\n",
              "      <td>11</td>\n",
              "      <td>0.1833</td>\n",
              "      <td>18.33</td>\n",
              "      <td>56</td>\n",
              "      <td>0.9333</td>\n",
              "      <td>93.33</td>\n",
              "    </tr>\n",
              "    <tr>\n",
              "      <th>7</th>\n",
              "      <td>350 ⊢ 370</td>\n",
              "      <td>360.0</td>\n",
              "      <td>4</td>\n",
              "      <td>0.0667</td>\n",
              "      <td>6.67</td>\n",
              "      <td>60</td>\n",
              "      <td>1.0000</td>\n",
              "      <td>100.00</td>\n",
              "    </tr>\n",
              "  </tbody>\n",
              "</table>\n",
              "</div>"
            ],
            "text/plain": [
              "             dist     xi  fi     fri  fri %  fac    frac  frac %\n",
              "classe                                                          \n",
              "1       230 ⊢ 250  240.0   6  0.1000  10.00    6  0.1000   10.00\n",
              "2       250 ⊢ 270  260.0   5  0.0833   8.33   11  0.1833   18.33\n",
              "3       270 ⊢ 290  280.0   8  0.1333  13.33   19  0.3167   31.67\n",
              "4       290 ⊢ 310  300.0  14  0.2333  23.33   33  0.5500   55.00\n",
              "5       310 ⊢ 330  320.0  12  0.2000  20.00   45  0.7500   75.00\n",
              "6       330 ⊢ 350  340.0  11  0.1833  18.33   56  0.9333   93.33\n",
              "7       350 ⊢ 370  360.0   4  0.0667   6.67   60  1.0000  100.00"
            ]
          },
          "metadata": {
            "tags": []
          },
          "execution_count": 11
        }
      ]
    }
  ]
}